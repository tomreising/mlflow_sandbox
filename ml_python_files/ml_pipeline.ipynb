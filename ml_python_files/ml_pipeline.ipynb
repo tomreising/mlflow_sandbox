{
 "cells": [
  {
   "cell_type": "code",
   "execution_count": 1,
   "metadata": {},
   "outputs": [],
   "source": [
    "import polars as pl\n",
    "from sklearn import datasets\n",
    "from sklearn.ensemble import GradientBoostingRegressor\n",
    "from sklearn.linear_model import LinearRegression\n",
    "from sklearn.model_selection import train_test_split"
   ]
  },
  {
   "cell_type": "code",
   "execution_count": 2,
   "metadata": {},
   "outputs": [],
   "source": [
    "data_dict = datasets.load_diabetes()\n",
    "df_base=pl.DataFrame(data_dict.get(\"data\"), schema=data_dict.get(\"feature_names\"))\n",
    "df = df_base.with_columns(pl.Series(\"target\", data_dict.get(\"target\"))).with_columns(\n",
    "    pl.col(\"age\").qcut(quantiles=4, labels=['a','b','c','d']).alias(\"age_groups\")\n",
    "    )\n",
    "model_df_dict = {}\n",
    "for i in df.select(pl.col(\"age_groups\")).unique().to_series().to_list():\n",
    "    key_val = {str(i) : df.filter(pl.col(\"age_groups\")==i).to_pandas()}\n",
    "    model_df_dict.update(key_val)"
   ]
  },
  {
   "cell_type": "code",
   "execution_count": null,
   "metadata": {},
   "outputs": [],
   "source": [
    "# optional: print all rows and columns\n",
    "with pl.Config(tbl_cols=-1, tbl_rows=-1):\n",
    "    print(df)"
   ]
  },
  {
   "cell_type": "code",
   "execution_count": 4,
   "metadata": {},
   "outputs": [],
   "source": [
    "# separate the dataset into four groups based on the age column\n",
    "model_df_dict = {}\n",
    "for i in df.select(pl.col(\"age_groups\")).unique().to_series().to_list():\n",
    "    key_val = {str(i) : df.filter(pl.col(\"age_groups\")==i).to_pandas()}\n",
    "    model_df_dict.update(key_val)"
   ]
  },
  {
   "cell_type": "code",
   "execution_count": 5,
   "metadata": {},
   "outputs": [],
   "source": [
    "# define a function that takes in the model_df_dict and age_group classification and builds a fitted linear regression model on the data\n",
    "def build_LinearRegression_model(model_df_dict:dict, age_group:str)  -> LinearRegression:\n",
    "    X_cols = ['age', 'sex', 'bmi', 'bp', 's1', 's2', 's3', 's4', 's5', 's6']\n",
    "    y_col = ['target']\n",
    "    X = model_df_dict.get(age_group)[X_cols].copy()\n",
    "    y = model_df_dict.get(age_group)[y_col].copy()\n",
    "    y = y['target'].to_list()\n",
    "    X_train, X_test, y_train, y_test = train_test_split(\n",
    "        X, y, random_state=0)\n",
    "    model = LinearRegression()\n",
    "    model.fit(X_train, y_train)\n",
    "    model_score = model.score(X_test, y_test)\n",
    "    return model, model_score\n",
    "    "
   ]
  },
  {
   "cell_type": "code",
   "execution_count": 6,
   "metadata": {},
   "outputs": [],
   "source": [
    "# define a function that takes in the model_df_dict and age_group classification and builds a fitted gradient boosting regression model on the data\n",
    "def build_GradienBoosting_model(model_df_dict:dict, age_group:str)  -> GradientBoostingRegressor:\n",
    "    X_cols = ['age', 'sex', 'bmi', 'bp', 's1', 's2', 's3', 's4', 's5', 's6']\n",
    "    y_col = ['target']\n",
    "    X = model_df_dict.get(age_group)[X_cols].copy()\n",
    "    y = model_df_dict.get(age_group)[y_col].copy()\n",
    "    y = y['target'].to_list()\n",
    "    X_train, X_test, y_train, y_test = train_test_split(\n",
    "        X, y, random_state=0)\n",
    "    model = GradientBoostingRegressor()\n",
    "    model.fit(X_train, y_train)\n",
    "    model_score = model.score(X_test, y_test)\n",
    "    return model, model_score"
   ]
  },
  {
   "cell_type": "code",
   "execution_count": 1,
   "metadata": {},
   "outputs": [
    {
     "name": "stderr",
     "output_type": "stream",
     "text": [
      "2024/12/16 21:37:15 INFO mlflow.tracking.fluent: Experiment with name 'your-experiment-name2' does not exist. Creating a new experiment.\n",
      "Successfully registered model 'sk-learn-random-forest-reg-model'.\n",
      "2024/12/16 21:37:20 INFO mlflow.store.model_registry.abstract_store: Waiting up to 300 seconds for model version to finish creation. Model name: sk-learn-random-forest-reg-model, version 1\n",
      "Created version '1' of model 'sk-learn-random-forest-reg-model'.\n",
      "2024/12/16 21:37:20 INFO mlflow.tracking._tracking_service.client: 🏃 View run peaceful-doe-952 at: http://localhost:5000/#/experiments/1/runs/da07f33ec241475eb33151583ec46cec.\n",
      "2024/12/16 21:37:20 INFO mlflow.tracking._tracking_service.client: 🧪 View experiment at: http://localhost:5000/#/experiments/1.\n"
     ]
    }
   ],
   "source": [
    "from sklearn.datasets import make_regression\n",
    "from sklearn.ensemble import RandomForestRegressor\n",
    "from sklearn.metrics import mean_squared_error\n",
    "from sklearn.model_selection import train_test_split\n",
    "\n",
    "import mlflow\n",
    "import mlflow.sklearn\n",
    "from mlflow.models import infer_signature\n",
    "\n",
    "mlflow.set_tracking_uri(\"http://localhost:5000\")\n",
    "mlflow.set_experiment(\"your-experiment-name2\")\n",
    "with mlflow.start_run() as run:\n",
    "    X, y = make_regression(n_features=4, n_informative=2, random_state=0, shuffle=False)\n",
    "    X_train, X_test, y_train, y_test = train_test_split(\n",
    "        X, y, test_size=0.2, random_state=42\n",
    "    )\n",
    "    params = {\"max_depth\": 2, \"random_state\": 42}\n",
    "    model = RandomForestRegressor(**params)\n",
    "    model.fit(X_train, y_train)\n",
    "\n",
    "    # Infer the model signature\n",
    "    y_pred = model.predict(X_test)\n",
    "    signature = infer_signature(X_test, y_pred)\n",
    "\n",
    "    # Log parameters and metrics using the MLflow APIs\n",
    "    mlflow.log_params(params)\n",
    "    mlflow.log_metrics({\"mse\": mean_squared_error(y_test, y_pred)})\n",
    "\n",
    "    # Log the sklearn model and register as version 1\n",
    "    mlflow.sklearn.log_model(\n",
    "        sk_model=model,\n",
    "        artifact_path=\"sklearn-model\",\n",
    "        signature=signature,\n",
    "        registered_model_name=\"sk-learn-random-forest-reg-model\",\n",
    "    )"
   ]
  },
  {
   "cell_type": "code",
   "execution_count": null,
   "metadata": {},
   "outputs": [
    {
     "name": "stdout",
     "output_type": "stream",
     "text": [
      "(10, -0.078464055859915)\n"
     ]
    }
   ],
   "source": [
    "# test\n",
    "model, score = build_GradienBoosting_model(model_df_dict, 'a')"
   ]
  },
  {
   "cell_type": "code",
   "execution_count": 7,
   "metadata": {},
   "outputs": [
    {
     "name": "stdout",
     "output_type": "stream",
     "text": [
      "0.3830295939287842\n",
      "0.4200441469358238\n",
      "0.4469238120580451\n",
      "0.2871730424430763\n"
     ]
    }
   ],
   "source": [
    "# loop throught \n",
    "for i in model_df_dict.keys():\n",
    "    build_model(model_df_dict, i)"
   ]
  }
 ],
 "metadata": {
  "kernelspec": {
   "display_name": "Python 3",
   "language": "python",
   "name": "python3"
  },
  "language_info": {
   "codemirror_mode": {
    "name": "ipython",
    "version": 3
   },
   "file_extension": ".py",
   "mimetype": "text/x-python",
   "name": "python",
   "nbconvert_exporter": "python",
   "pygments_lexer": "ipython3",
   "version": "3.11.5"
  }
 },
 "nbformat": 4,
 "nbformat_minor": 2
}
